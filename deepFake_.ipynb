{
  "nbformat": 4,
  "nbformat_minor": 0,
  "metadata": {
    "colab": {
      "name": "deepFake .ipynb",
      "provenance": [],
      "authorship_tag": "ABX9TyM+cXBSltz3hYrHPF/MQJMp",
      "include_colab_link": true
    },
    "kernelspec": {
      "name": "python3",
      "display_name": "Python 3"
    }
  },
  "cells": [
    {
      "cell_type": "markdown",
      "metadata": {
        "id": "view-in-github",
        "colab_type": "text"
      },
      "source": [
        "<a href=\"https://colab.research.google.com/github/Idaapayo/Deep-Fake-project/blob/master/deepFake_.ipynb\" target=\"_parent\"><img src=\"https://colab.research.google.com/assets/colab-badge.svg\" alt=\"Open In Colab\"/></a>"
      ]
    },
    {
      "cell_type": "markdown",
      "metadata": {
        "id": "d9fOvyLP2JuF",
        "colab_type": "text"
      },
      "source": [
        "from google.colab import drive  #importing my drive \n",
        "drive.mount('/content/drive')\n"
      ]
    },
    {
      "cell_type": "markdown",
      "metadata": {
        "id": "h7BifU6ZoF_1",
        "colab_type": "text"
      },
      "source": [
        "from pydrive.auth import GoogleAuth\n",
        "from pydrive.drive import GoogleDrive\n",
        "from google.colab import auth\n",
        "from oauth2client.client import GoogleCredentials"
      ]
    },
    {
      "cell_type": "code",
      "metadata": {
        "colab_type": "code",
        "id": "FUKUjfg_p9M2",
        "colab": {}
      },
      "source": [
        "from pydrive.auth import GoogleAuth\n",
        "from pydrive.drive import GoogleDrive\n",
        "from google.colab import auth\n",
        "from oauth2client.client import GoogleCredentials\n",
        "import os\n",
        "import zipfile\n",
        "import numpy as np\n",
        "import pandas as pd\n",
        "import matplotlib\n",
        "import seaborn as sns\n",
        "import matplotlib.pyplot as plt\n",
        "from tqdm import tqdm_notebook\n",
        "%matplotlib inline \n",
        "# from google.colab.patches import cv2_imshow\n",
        "from IPython.display import HTML #imports to play videos\n",
        "from base64 import b64encode "
      ],
      "execution_count": 0,
      "outputs": []
    },
    {
      "cell_type": "code",
      "metadata": {
        "id": "uu0IMAm9xCVV",
        "colab_type": "code",
        "colab": {}
      },
      "source": [
        "auth.authenticate_user()\n",
        "gauth = GoogleAuth()\n",
        "gauth.credentials = GoogleCredentials.get_application_default()\n",
        "drive = GoogleDrive(gauth)"
      ],
      "execution_count": 0,
      "outputs": []
    },
    {
      "cell_type": "code",
      "metadata": {
        "colab_type": "code",
        "outputId": "797e78b4-1ddd-4e2c-e9f5-f092f58bdc51",
        "id": "lZwVflGxXSoG",
        "colab": {
          "base_uri": "https://localhost:8080/",
          "height": 34
        }
      },
      "source": [
        "# downloaded = drive.CreateFile({'id':\"1-2QnR8FJEel1aA3JYVGTHgVLX2gbFkse\"})\n",
        "# os.path.exists(\"/content/drive/My Drive/deepFake datasets\")\n",
        "# os.path.isfile(\"/content/sample_data/california_housing_train.csv\")\n",
        "os.path.exists(\"/content/drive/My Drive/deepFake datasets/haar-cascades-for-face-detection\")\n",
        "# /content/drive/My Drive/deepFake datasets"
      ],
      "execution_count": 0,
      "outputs": [
        {
          "output_type": "execute_result",
          "data": {
            "text/plain": [
              "True"
            ]
          },
          "metadata": {
            "tags": []
          },
          "execution_count": 13
        }
      ]
    },
    {
      "cell_type": "code",
      "metadata": {
        "id": "zfvPzDMru80W",
        "colab_type": "code",
        "colab": {
          "base_uri": "https://localhost:8080/",
          "height": 50
        },
        "outputId": "99b9149d-0299-4ad6-b6cf-4d0ae55d81dc"
      },
      "source": [
        "DATA_FOLDER = '/content/drive/My Drive/deepFake datasets' #loading the data\n",
        "TRAIN_SAMPLE_FOLDER = '/content/drive/My Drive/deepFake datasets/train_sample_videos'\n",
        "TEST_FOLDER = '/content/drive/My Drive/deepFake datasets/test_videos'\n",
        "print(f\"Train samples: {len(os.listdir(os.path.join(DATA_FOLDER, TRAIN_SAMPLE_FOLDER)))}\")\n",
        "print(f\"Test samples: {len(os.listdir(os.path.join(DATA_FOLDER, TEST_FOLDER)))}\")\n"
      ],
      "execution_count": 28,
      "outputs": [
        {
          "output_type": "stream",
          "text": [
            "Train samples: 401\n",
            "Test samples: 400\n"
          ],
          "name": "stdout"
        }
      ]
    },
    {
      "cell_type": "code",
      "metadata": {
        "id": "kWSeDeq_2kPE",
        "colab_type": "code",
        "colab": {
          "base_uri": "https://localhost:8080/",
          "height": 54
        },
        "outputId": "6366f11f-2ea1-4133-daa3-7af8190a32ba"
      },
      "source": [
        "# adding face detection resources\n",
        "FACE_DETECTION_FOLDER = '/content/drive/My Drive/deepFake datasets/haar-cascades-for-face-detection'\n",
        "print(f\"Face detection resources: {os.listdir(FACE_DETECTION_FOLDER)}\")"
      ],
      "execution_count": 29,
      "outputs": [
        {
          "output_type": "stream",
          "text": [
            "Face detection resources: ['haarcascade_eye.xml', 'haarcascade_frontalface_default.xml', 'haarcascade_frontalface_alt2.xml', 'haarcascade_frontalface_alt_tree.xml', 'haarcascade_frontalface_alt.xml', 'haarcascade_eye_tree_eyeglasses.xml', 'haarcascade_fullbody.xml', 'haarcascade_profileface.xml', 'haarcascade_smile.xml', 'haarcascade_upperbody.xml']\n"
          ],
          "name": "stdout"
        }
      ]
    },
    {
      "cell_type": "code",
      "metadata": {
        "id": "0LHzZHiTLWVb",
        "colab_type": "code",
        "colab": {}
      },
      "source": [
        "#checking file type\n"
      ],
      "execution_count": 0,
      "outputs": []
    }
  ]
}